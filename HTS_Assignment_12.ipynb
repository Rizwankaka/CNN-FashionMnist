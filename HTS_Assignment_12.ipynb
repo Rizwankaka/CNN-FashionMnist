{
 "cells": [
  {
   "cell_type": "markdown",
   "metadata": {},
   "source": [
    "# **Convolutional Neural Network on FashionMnist Dataset**\n",
    "## *Author: Rizwan Rizwan*\n",
    "**Contact**\n",
    "\n",
    "[![](Github.png)](https://github.com/Rizwankaka?tab=repositories)\n",
    "\n",
    "[![](Linkedin.png)](https://www.linkedin.com/in/rizwan-rizwan-1351a650)\n",
    "\n",
    "[![](Twitter.png)](https://twitter.com/R_RizwanNazir)\n",
    "\n",
    "[![](Gmail.png)](mailto:rizwan.rewala@gmail.com)"
   ]
  },
  {
   "cell_type": "markdown",
   "metadata": {},
   "source": [
    "## **1. Train Convolutional Neural Network on Fashion MNIST dataset**"
   ]
  },
  {
   "cell_type": "markdown",
   "metadata": {},
   "source": [
    "### **<span style=\"color:green\">Loading Required Packages and FashionMnist data</span>**"
   ]
  },
  {
   "cell_type": "code",
   "execution_count": 23,
   "metadata": {},
   "outputs": [],
   "source": [
    "# Import the libraries\n",
    "import numpy as np\n",
    "import pandas as pd\n",
    "import keras\n",
    "import tensorflow as tf"
   ]
  },
  {
   "cell_type": "code",
   "execution_count": 24,
   "metadata": {},
   "outputs": [
    {
     "name": "stdout",
     "output_type": "stream",
     "text": [
      "[name: \"/device:CPU:0\"\n",
      "device_type: \"CPU\"\n",
      "memory_limit: 268435456\n",
      "locality {\n",
      "}\n",
      "incarnation: 5295806509071178582\n",
      "]\n"
     ]
    }
   ],
   "source": [
    "# Checking Available Devices\n",
    "import tensorflow as tf\n",
    "from tensorflow.python.client import device_lib\n",
    "print(device_lib.list_local_devices())"
   ]
  },
  {
   "cell_type": "markdown",
   "metadata": {},
   "source": [
    "## **2. Split the data into X_train, y_train, X_test and y_test.**"
   ]
  },
  {
   "cell_type": "code",
   "execution_count": 25,
   "metadata": {},
   "outputs": [],
   "source": [
    "# Loading Fashion Mnist dataset \n",
    "from keras.datasets import fashion_mnist\n",
    "\n",
    "# Splitting the dataset into training and testing sets\n",
    "(X_train, y_train), (X_test, y_test) = fashion_mnist.load_data()"
   ]
  },
  {
   "cell_type": "markdown",
   "metadata": {},
   "source": [
    "### **<span style=\"color:green\">2a. Display the sample images from X_train</span>**"
   ]
  },
  {
   "cell_type": "code",
   "execution_count": 26,
   "metadata": {},
   "outputs": [
    {
     "data": {
      "image/png": "[encoded data removed]",
      "text/plain": [
       "<Figure size 2000x400 with 10 Axes>"
      ]
     },
     "metadata": {},
     "output_type": "display_data"
    }
   ],
   "source": [
    "# display the sample images from X_train \n",
    "import matplotlib.pyplot as plt\n",
    "\n",
    "# Number of images to display\n",
    "n = 10\n",
    "\n",
    "# Create a figure to display the images\n",
    "plt.figure(figsize=(20, 4))\n",
    "\n",
    "# Loop through the first 'n' images\n",
    "for i in range(n):\n",
    "    # Create a subplot within the figure\n",
    "    ax = plt.subplot(2, n, i + 1)\n",
    "\n",
    "    # Display the original image\n",
    "    plt.imshow(X_train[i].reshape(28, 28))\n",
    "\n",
    "    # Set colormap to grayscale\n",
    "    plt.gray()\n",
    "\n",
    "    # Hide x-axis and y-axis labels and ticks\n",
    "    ax.get_xaxis().set_visible(False)\n",
    "    ax.get_yaxis().set_visible(False)\n",
    "\n",
    "# Show the figure with the images\n",
    "plt.show()\n",
    "\n",
    "# Close the figure\n",
    "plt.close()\n"
   ]
  },
  {
   "cell_type": "markdown",
   "metadata": {},
   "source": [
    "### **<span style=\"color:green\">2b. Display the shape of X_train and y_train</span>**"
   ]
  },
  {
   "cell_type": "code",
   "execution_count": 27,
   "metadata": {},
   "outputs": [
    {
     "name": "stdout",
     "output_type": "stream",
     "text": [
      "X_train Shape : (60000, 28, 28)\n",
      "y_train Shape : (60000,)\n",
      "X_test Shape : (10000, 28, 28)\n",
      "y_test Shape : (10000,)\n"
     ]
    }
   ],
   "source": [
    "# Dataset Shapes\n",
    "print(\"X_train Shape :\", X_train.shape)\n",
    "print(\"y_train Shape :\", y_train.shape)\n",
    "print(\"X_test Shape :\", X_test.shape)\n",
    "print(\"y_test Shape :\", y_test.shape)"
   ]
  },
  {
   "cell_type": "markdown",
   "metadata": {},
   "source": [
    "## **3. Flatten the images**\n",
    "\n",
    "### **<span style=\"color:green\">3a. Reshape the images from 28x28 to 28x28x1.</span>**"
   ]
  },
  {
   "cell_type": "markdown",
   "metadata": {},
   "source": [
    "- The images in Fashion MNIST are 28x28 pixel 2D arrays, stored as a 3D tensor of shape (#images, 28, 28).\n",
    "\n",
    "- To use them as input to other algorithms, we need to convert each 2D image into a 1D vector of pixels.\n",
    "\n",
    "- Mathematically, this process is called reshaping the higher dimensional data into a lower dimensional representation.\n",
    "\n",
    "- In machine learning terms, it is generally referred to as flattening - since we are flattening the multi-dimensional images into single dimension vectors.\n",
    "\n",
    "- The end result of both reshaping and flattening in this case is converting each 2D (28x28) image into a 784 dimensional (28*28) pixel vector."
   ]
  },
  {
   "cell_type": "code",
   "execution_count": 28,
   "metadata": {},
   "outputs": [],
   "source": [
    "x_train = X_train.reshape(X_train.shape[0],28,28,1)\n",
    "x_test = X_test.reshape(X_test.shape[0],28,28,1)"
   ]
  },
  {
   "cell_type": "markdown",
   "metadata": {},
   "source": [
    "## **4. Scale the data**\n",
    "## **Min Max Scaling**\n",
    "### **<span style=\"color:green\">4a. Convert the data into float 32 type.</span>**"
   ]
  },
  {
   "cell_type": "code",
   "execution_count": 29,
   "metadata": {},
   "outputs": [],
   "source": [
    "# Converting to floating point \n",
    "X_train = x_train.astype(\"float32\")\n",
    "X_test = x_test.astype(\"float32\")"
   ]
  },
  {
   "cell_type": "markdown",
   "metadata": {},
   "source": [
    "\n",
    "### **<span style=\"color:green\">4b. Scale the data by dividing X_train and y_train by 255.</span>**"
   ]
  },
  {
   "cell_type": "code",
   "execution_count": 30,
   "metadata": {},
   "outputs": [],
   "source": [
    "# Normalizing pixel values in range [0,1]\n",
    "X_train /= 255\n",
    "X_test /= 255"
   ]
  },
  {
   "cell_type": "markdown",
   "metadata": {},
   "source": [
    "### **<span style=\"color:green\">4c. Display the shape of X_train and y_train after scaling.</span>**\n",
    "## **One Hot Encoding**"
   ]
  },
  {
   "cell_type": "code",
   "execution_count": 31,
   "metadata": {},
   "outputs": [
    {
     "name": "stdout",
     "output_type": "stream",
     "text": [
      "X_train Shape : (60000, 28, 28, 1)\n",
      "y_train Shape : (60000, 10)\n"
     ]
    }
   ],
   "source": [
    "# Reshaping Labels in One-hot encoding for Multi-class Classification\n",
    "from keras.utils import to_categorical\n",
    "\n",
    "y_train = to_categorical(y_train, num_classes=10)\n",
    "y_test = to_categorical(y_test, num_classes=10)\n",
    "# Seeing updated Shapes\n",
    "print(\"X_train Shape :\", x_train.shape)\n",
    "print(\"y_train Shape :\", y_train.shape)"
   ]
  },
  {
   "cell_type": "markdown",
   "metadata": {},
   "source": [
    "# **Building the CNN**"
   ]
  },
  {
   "cell_type": "markdown",
   "metadata": {},
   "source": [
    "## **5. Define the hyper parameters for the neural networks**"
   ]
  },
  {
   "cell_type": "code",
   "execution_count": 32,
   "metadata": {},
   "outputs": [],
   "source": [
    "from keras.models import Sequential\n",
    "from keras.layers.core import Dense ,Flatten\n",
    "from keras.layers.convolutional import Conv2D, MaxPooling2D"
   ]
  },
  {
   "cell_type": "code",
   "execution_count": 33,
   "metadata": {},
   "outputs": [],
   "source": [
    "# a. Number of Epochs:\n",
    "epochs=10, # 10-20 epochs. Start with fewer epochs and increase if underfitting.\n",
    "\n",
    "# b. Batch Size:\n",
    "batch_size=64, # 32 or 64. Batch size impacts training time and accuracy. Values between 32-128 are commonly used.\n",
    "\n",
    "# c. Input_size of image (Img_height, Img_width, No of channels)\n",
    "img_rows, img_cols, channels = 28, 28, 1  # 28 x 28 pixels. The FashionMNIST images are 28x28 grayscale images.\n",
    "\n",
    "# d. Number of convolutional layers \n",
    "conv_layers = 3 # 2-3 convolutional layers. This is sufficient for the complexity of the FashionMNIST dataset.\n",
    "\n",
    "# e. Output_size (output layers depending upon the number of classes)\n",
    "classes = 10 # There are 10 classes in FashionMNIST corresponding to different clothing types: T-shirt/top, Trouser, Pullover, Dress, Coat, Sandal, Shirt, Sneaker, Bag, Ankle boot.\n",
    "\n",
    "# f. Define the number of filters for each layer of the CNN\n",
    "filters = [6, 32, 80 ,120]  # These are the number of filters in each layer of the CNN"
   ]
  },
  {
   "cell_type": "markdown",
   "metadata": {},
   "source": [
    "## **6. Define the structure of your neural network**\n",
    "\n",
    "### **<span style=\"color:green\">a. No. of Convolutional layers.</span>**\n",
    "No. of Convolutional Layers: 4\n",
    "### **<span style=\"color:green\">b. Activation function for each convolutional layer.</span>**\n",
    "Relu ( Rectified Linear Unit)\n",
    "### **<span style=\"color:green\">c. Flatten the 2D vectors into 1D vector for FCN.</span>**\n",
    "model.add(Flatten())\n",
    "### **<span style=\"color:green\">d. Number of output layer neurons and activation function.</span>**\n",
    "Number of Output Layer Neurons = 64\n",
    "### **<span style=\"color:green\">e. Compile the model and provide following arguments .</span>**\n",
    "i. Loss function = categorical_crossentropy\\\n",
    "ii. Optimizer = sgd\\\n",
    "iii. Metrics to be evaluated on validation data = accuracy\n"
   ]
  },
  {
   "cell_type": "markdown",
   "metadata": {},
   "source": [
    "The key components are:\n",
    "\n",
    "Input Layer:\n",
    "\n",
    "- Input shape specified as (img_rows, img_cols, channels) which are the dimensions of the input images.\n",
    "  \n",
    "Convolutional Layers:\n",
    "\n",
    "- 4 Conv2D layers each with different filter sizes specified in the 'filters' list. These apply convolutions to extract features from the images.\n",
    "- Activation function is ReLU.\n",
    "\n",
    "Pooling Layers:\n",
    "\n",
    "- Maxpooling2D after each Conv2D to reduce spatial dimensions and perform downsampling.\n",
    "  \n",
    "Hidden Layers:\n",
    "\n",
    "- There is a Flatten layer to flatten the output from the convolutional layers.\n",
    "- One Dense layer with 64 units and ReLU activation.\n",
    "  \n",
    "Output Layer:\n",
    "\n",
    "- Final dense layer with number of units equal to number of classes and softmax activation for classification.\n",
    "\n",
    "In summary, the model has:\n",
    "\n",
    "- 1 Input layer\n",
    "- 4 Convolutional layers\n",
    "- 4 Maxpooling layers\n",
    "- 1 Flatten layer (hidden)\n",
    "- 1 Dense layer (hidden)\n",
    "- 1 Output layer\n",
    "- The optimizer is SGD and loss function is categorical cross-entropy for multi-class classification. Metrics is accuracy."
   ]
  },
  {
   "cell_type": "code",
   "execution_count": 34,
   "metadata": {},
   "outputs": [],
   "source": [
    "# Model architecture \n",
    "\n",
    "model=Sequential() #Sequential is a container to store layers\n",
    "model.add(Conv2D(filters[0],(3,3),padding='same',\\\n",
    "                 activation='relu',input_shape=(img_rows,img_cols, channels)))\n",
    "model.add(MaxPooling2D(pool_size=(2,2))) #For reducing image size\n",
    "\n",
    "model.add(Conv2D(filters[1],(2,2),padding='same', activation='relu'))\n",
    "model.add(MaxPooling2D(pool_size=(2,2)))\n",
    "\n",
    "model.add(Conv2D(filters[2],(2,2),padding='same', activation='relu'))\n",
    "model.add(MaxPooling2D(pool_size=(2,2)))\n",
    "\n",
    "model.add(Conv2D(filters[3],(2,2),padding='same', activation='relu'))\n",
    "model.add(MaxPooling2D(pool_size=(2,2)))\n",
    "\n",
    "model.add(Flatten())\n",
    "\n",
    "model.add(Dense(64,activation='relu'))\n",
    "model.add(Dense(classes, activation='softmax'))\n",
    "model.compile(loss='categorical_crossentropy', optimizer='sgd', metrics=['accuracy'])"
   ]
  },
  {
   "cell_type": "markdown",
   "metadata": {},
   "source": [
    "### **<span style=\"color:green\">f. Display the summary of the model .</span>**"
   ]
  },
  {
   "cell_type": "code",
   "execution_count": 35,
   "metadata": {},
   "outputs": [
    {
     "name": "stdout",
     "output_type": "stream",
     "text": [
      "Model: \"sequential_2\"\n",
      "_________________________________________________________________\n",
      "Layer (type)                 Output Shape              Param #   \n",
      "=================================================================\n",
      "conv2d_5 (Conv2D)            (None, 28, 28, 6)         60        \n",
      "_________________________________________________________________\n",
      "max_pooling2d_5 (MaxPooling2 (None, 14, 14, 6)         0         \n",
      "_________________________________________________________________\n",
      "conv2d_6 (Conv2D)            (None, 14, 14, 32)        800       \n",
      "_________________________________________________________________\n",
      "max_pooling2d_6 (MaxPooling2 (None, 7, 7, 32)          0         \n",
      "_________________________________________________________________\n",
      "conv2d_7 (Conv2D)            (None, 7, 7, 80)          10320     \n",
      "_________________________________________________________________\n",
      "max_pooling2d_7 (MaxPooling2 (None, 3, 3, 80)          0         \n",
      "_________________________________________________________________\n",
      "conv2d_8 (Conv2D)            (None, 3, 3, 120)         38520     \n",
      "_________________________________________________________________\n",
      "max_pooling2d_8 (MaxPooling2 (None, 1, 1, 120)         0         \n",
      "_________________________________________________________________\n",
      "flatten_2 (Flatten)          (None, 120)               0         \n",
      "_________________________________________________________________\n",
      "dense_3 (Dense)              (None, 64)                7744      \n",
      "_________________________________________________________________\n",
      "dense_4 (Dense)              (None, 10)                650       \n",
      "=================================================================\n",
      "Total params: 58,094\n",
      "Trainable params: 58,094\n",
      "Non-trainable params: 0\n",
      "_________________________________________________________________\n"
     ]
    }
   ],
   "source": [
    "model.summary()"
   ]
  },
  {
   "cell_type": "markdown",
   "metadata": {},
   "source": [
    "## **7. Train the Neural Network**\n",
    "\n",
    "### **<span style=\"color:green\">a. Fit the Model.</span>**\n",
    "### **<span style=\"color:green\">b. Train the Model for 10 epochs and report the training accuracy.</span>**"
   ]
  },
  {
   "cell_type": "code",
   "execution_count": 41,
   "metadata": {},
   "outputs": [
    {
     "name": "stdout",
     "output_type": "stream",
     "text": [
      "Train on 48000 samples, validate on 12000 samples\n",
      "Epoch 1/20\n",
      "  256/48000 [..............................] - ETA: 17s - loss: 0.3563 - accuracy: 0.8984"
     ]
    },
    {
     "name": "stdout",
     "output_type": "stream",
     "text": [
      "48000/48000 [==============================] - 16s 324us/step - loss: 0.4123 - accuracy: 0.8496 - val_loss: 0.4145 - val_accuracy: 0.8526\n",
      "Epoch 2/20\n",
      "48000/48000 [==============================] - 15s 312us/step - loss: 0.3989 - accuracy: 0.8536 - val_loss: 0.4260 - val_accuracy: 0.8465\n",
      "Epoch 3/20\n",
      "48000/48000 [==============================] - 16s 324us/step - loss: 0.3882 - accuracy: 0.8582 - val_loss: 0.4019 - val_accuracy: 0.8558\n",
      "Epoch 4/20\n",
      "48000/48000 [==============================] - 15s 319us/step - loss: 0.3761 - accuracy: 0.8629 - val_loss: 0.3842 - val_accuracy: 0.8608\n",
      "Epoch 5/20\n",
      "48000/48000 [==============================] - 15s 321us/step - loss: 0.3674 - accuracy: 0.8665 - val_loss: 0.4274 - val_accuracy: 0.8429\n",
      "Epoch 6/20\n",
      "48000/48000 [==============================] - 15s 322us/step - loss: 0.3590 - accuracy: 0.8689 - val_loss: 0.3859 - val_accuracy: 0.8601\n",
      "Epoch 7/20\n",
      "48000/48000 [==============================] - 15s 320us/step - loss: 0.3523 - accuracy: 0.8708 - val_loss: 0.3725 - val_accuracy: 0.8626\n",
      "Epoch 8/20\n",
      "48000/48000 [==============================] - 15s 321us/step - loss: 0.3433 - accuracy: 0.8754 - val_loss: 0.3711 - val_accuracy: 0.8673\n",
      "Epoch 9/20\n",
      "48000/48000 [==============================] - 15s 318us/step - loss: 0.3370 - accuracy: 0.8779 - val_loss: 0.3712 - val_accuracy: 0.8634\n",
      "Epoch 10/20\n",
      "48000/48000 [==============================] - 15s 321us/step - loss: 0.3320 - accuracy: 0.8781 - val_loss: 0.3525 - val_accuracy: 0.8722\n",
      "Epoch 11/20\n",
      "48000/48000 [==============================] - 16s 327us/step - loss: 0.3242 - accuracy: 0.8807 - val_loss: 0.4005 - val_accuracy: 0.8544\n",
      "Epoch 12/20\n",
      "48000/48000 [==============================] - 16s 326us/step - loss: 0.3196 - accuracy: 0.8843 - val_loss: 0.3451 - val_accuracy: 0.8750\n",
      "Epoch 13/20\n",
      "48000/48000 [==============================] - 16s 328us/step - loss: 0.3129 - accuracy: 0.8872 - val_loss: 0.3384 - val_accuracy: 0.8775\n",
      "Epoch 14/20\n",
      "48000/48000 [==============================] - 16s 332us/step - loss: 0.3088 - accuracy: 0.8880 - val_loss: 0.3590 - val_accuracy: 0.8706\n",
      "Epoch 15/20\n",
      "48000/48000 [==============================] - 16s 332us/step - loss: 0.3030 - accuracy: 0.8892 - val_loss: 0.3532 - val_accuracy: 0.8698\n",
      "Epoch 16/20\n",
      "48000/48000 [==============================] - 16s 330us/step - loss: 0.2990 - accuracy: 0.8912 - val_loss: 0.3450 - val_accuracy: 0.8767\n",
      "Epoch 17/20\n",
      "48000/48000 [==============================] - 17s 359us/step - loss: 0.2967 - accuracy: 0.8915 - val_loss: 0.3364 - val_accuracy: 0.8798\n",
      "Epoch 18/20\n",
      "48000/48000 [==============================] - 16s 328us/step - loss: 0.2909 - accuracy: 0.8945 - val_loss: 0.3337 - val_accuracy: 0.8792\n",
      "Epoch 19/20\n",
      "48000/48000 [==============================] - 16s 332us/step - loss: 0.2892 - accuracy: 0.8947 - val_loss: 0.3834 - val_accuracy: 0.8589\n",
      "Epoch 20/20\n",
      "48000/48000 [==============================] - 16s 334us/step - loss: 0.2841 - accuracy: 0.8964 - val_loss: 0.3210 - val_accuracy: 0.8830\n"
     ]
    },
    {
     "data": {
      "text/plain": [
       "<keras.callbacks.callbacks.History at 0x20593cb4748>"
      ]
     },
     "execution_count": 41,
     "metadata": {},
     "output_type": "execute_result"
    }
   ],
   "source": [
    "# Training Model\n",
    "model.fit(X_train, y_train, validation_split= 0.2, epochs=20, batch_size=64, verbose=1)"
   ]
  },
  {
   "cell_type": "markdown",
   "metadata": {},
   "source": [
    "## **8. Test the model**\n",
    "### **<span style=\"color:green\">a. Find the testing accuracy of the model.</span>**"
   ]
  },
  {
   "cell_type": "code",
   "execution_count": 42,
   "metadata": {},
   "outputs": [
    {
     "name": "stdout",
     "output_type": "stream",
     "text": [
      "\n",
      "Test accuracy: 0.8639\n"
     ]
    }
   ],
   "source": [
    "# Import the necessary libraries\n",
    "from sklearn.metrics import accuracy_score\n",
    "import numpy as np\n",
    "import matplotlib.pyplot as plt\n",
    "\n",
    "# Predict probabilities for the test set using the trained model\n",
    "y_pred_probs = model.predict(X_test, verbose=0)\n",
    "y_pred = np.where(y_pred_probs > 0.5, 1, 0)\n",
    "\n",
    "# Calculate and print the test accuracy using predicted and true labels\n",
    "test_accuracy = accuracy_score(y_pred, y_test)\n",
    "print(\"\\nTest accuracy: {}\".format(test_accuracy))"
   ]
  },
  {
   "cell_type": "markdown",
   "metadata": {},
   "source": [
    "### **<span style=\"color:green\">b. Compare the training and testing accuracy and write you observation in the comments.</span>**\n",
    "training accuracy = 89%\n",
    "\n",
    "testing accuracy=86% \n",
    "\n",
    "*comments*\n",
    "\n",
    "Here are a few thoughts on that statement about convolutional neural network efficiency:\n",
    "\n",
    "- The statement indicates that this particular convolutional neural network has a training efficiency of 89% and a testing efficiency of 86%.\n",
    "- Training efficiency generally refers to how quickly and accurately the model can learn during the training process. Testing efficiency refers to the model's performance on     new, unseen data after training.\n",
    "- Having both high training and testing efficiency suggests this is an effective model architecture that is able to generalize well. The slightly higher training efficiency is common, since the model sees the training data multiple times during training.\n",
    "- 89% and 86% are quite high, indicating this model trains and tests very efficiently. However, without more context it's hard to fully assess how good these metrics are compared to state-of-the-art models."
   ]
  },
  {
   "cell_type": "code",
   "execution_count": 43,
   "metadata": {},
   "outputs": [],
   "source": [
    "# Define a mask for selecting a range of indices (20 to 49)\n",
    "mask = range(20, 50)\n",
    "\n",
    "# Select the first 20 samples from the test set for visualization\n",
    "X_valid = X_test[20:40]\n",
    "actual_labels = y_test[20:40]\n",
    "\n",
    "# Predict probabilities for the selected validation samples\n",
    "y_pred_probs_valid = model.predict(X_valid)\n",
    "y_pred_valid = np.where(y_pred_probs_valid > 0.5, 1, 0)"
   ]
  },
  {
   "cell_type": "markdown",
   "metadata": {},
   "source": [
    "### **<span style=\"color:green\">c. Display the predicted labels along the input image.</span>**"
   ]
  },
  {
   "cell_type": "code",
   "execution_count": 44,
   "metadata": {},
   "outputs": [
    {
     "data": {
      "image/png": "[encoded data removed]",
      "text/plain": [
       "<Figure size 2000x400 with 40 Axes>"
      ]
     },
     "metadata": {},
     "output_type": "display_data"
    }
   ],
   "source": [
    "# Set up a figure to display images\n",
    "n = len(X_valid)\n",
    "plt.figure(figsize=(20, 4))\n",
    "\n",
    "for i in range(n):\n",
    "    # Display the original image\n",
    "    ax = plt.subplot(2, n, i + 1)\n",
    "    plt.imshow(X_valid[i].reshape(28, 28))\n",
    "    plt.gray()\n",
    "    ax.get_xaxis().set_visible(False)\n",
    "    ax.get_yaxis().set_visible(False)\n",
    "\n",
    "    # Display the predicted digit\n",
    "    predicted_digit = np.argmax(y_pred_probs_valid[i])\n",
    "    ax = plt.subplot(2, n, i + 1 + n)\n",
    "    plt.text(0.5, 0.5, str(predicted_digit), fontsize=12, ha='center', va='center')\n",
    "    plt.axis('off')\n",
    "\n",
    "# Show the plotted images\n",
    "plt.show()\n",
    "\n",
    "# Close the plot\n",
    "plt.close()"
   ]
  },
  {
   "cell_type": "markdown",
   "metadata": {},
   "source": [
    "| Label | Class |\n",
    "|-|-|\n",
    "| 0 | T-shirt/top |\n",
    "| 1 | Trouser |\n",
    "| 2 | Pullover |  \n",
    "| 3 | Dress |\n",
    "| 4 | Coat |\n",
    "| 5 | Sandal |\n",
    "| 6 | Shirt |\n",
    "| 7 | Sneaker |\n",
    "| 8 | Bag |\n",
    "| 9 | Ankle boot |"
   ]
  }
 ],
 "metadata": {
  "kernelspec": {
   "display_name": "dl_env",
   "language": "python",
   "name": "python3"
  },
  "language_info": {
   "codemirror_mode": {
    "name": "ipython",
    "version": 3
   },
   "file_extension": ".py",
   "mimetype": "text/x-python",
   "name": "python",
   "nbconvert_exporter": "python",
   "pygments_lexer": "ipython3",
   "version": "3.7.12"
  },
  "orig_nbformat": 4
 },
 "nbformat": 4,
 "nbformat_minor": 2
}
